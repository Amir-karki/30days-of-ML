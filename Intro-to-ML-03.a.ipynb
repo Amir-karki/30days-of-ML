{
 "cells": [
  {
   "cell_type": "markdown",
   "id": "560c43c9-e1ff-430f-bc73-f49d19690467",
   "metadata": {},
   "source": [
    "Learning Pipelines:\n",
    "\n",
    "Pipeline bundles the preprocessing and modeling steps and makes the code short, simple and easier to productionize. It does the imputation, Encoder etc by itself such that the code is less redundant and makes it faster to build the models."
   ]
  },
  {
   "cell_type": "code",
   "execution_count": 107,
   "id": "d604f1f8-4d22-4ee0-90ae-71a2e812cfd3",
   "metadata": {},
   "outputs": [],
   "source": [
    "import pandas as pd\n",
    "from sklearn.metrics import mean_absolute_error\n",
    "from sklearn.model_selection import train_test_split\n",
    "from sklearn.ensemble import RandomForestRegressor\n",
    "from sklearn.impute import SimpleImputer\n",
    "from sklearn.preprocessing import OneHotEncoder\n",
    "from sklearn.pipeline import Pipeline\n",
    "from sklearn.compose import ColumnTransformer\n",
    "\n",
    "url = r'C:\\Users\\12368\\OneDrive\\Desktop\\DataScience\\melb_data.csv'\n",
    "data = pd.read_csv(url)\n",
    "\n",
    "y = data['Price']\n",
    "X = data.drop('Price', axis=1)\n",
    "\n",
    "X_train_full, X_test_full, y_train, y_test = train_test_split(X, y, train_size=0.8, test_size=0.2, random_state=0)\n",
    "\n",
    "numerical_cols = [cols for cols in X_train_full.columns if X_train_full[cols].dtype in ['int64', 'float64']]\n",
    "low_cardinality_cols = [cols for cols in X_train_full.columns if X_train_full[cols].nunique() < 10 and X_train_full[cols].dtype == 'object']"
   ]
  },
  {
   "cell_type": "code",
   "execution_count": 108,
   "id": "1e469d04-01f8-4e53-a50e-974c353f9b8d",
   "metadata": {},
   "outputs": [],
   "source": [
    "my_cols = numerical_cols + low_cardinality_cols\n",
    "X_train = X_train_full[my_cols].copy()\n",
    "X_test = X_test_full[my_cols].copy()\n"
   ]
  },
  {
   "cell_type": "code",
   "execution_count": 109,
   "id": "e7c20c9b-96b0-4246-8893-ae6b2b68f43b",
   "metadata": {},
   "outputs": [],
   "source": [
    "numerical_transformer = SimpleImputer(strategy='constant')\n",
    "\n",
    "categorical_transformer = Pipeline(steps=[\n",
    "    ('imputer', SimpleImputer(strategy='most_frequent')),\n",
    "    ('onehot', OneHotEncoder(handle_unknown='ignore'))\n",
    "])\n",
    "\n",
    "preprocessor = ColumnTransformer(transformers=[\n",
    "    ('num', numerical_transformer, numerical_cols),\n",
    "    ('cat', categorical_transformer, categorical_cols)\n",
    "])\n",
    "\n",
    "model = RandomForestRegressor(n_estimators=100, random_state=0)\n",
    "\n",
    "pipeline = Pipeline(steps=[('preprocessor', preprocessor),\n",
    "                              ('model', model)\n",
    "                             ])"
   ]
  },
  {
   "cell_type": "code",
   "execution_count": 110,
   "id": "1790014c-dc50-467f-8876-80f1257d7f8e",
   "metadata": {},
   "outputs": [
    {
     "name": "stdout",
     "output_type": "stream",
     "text": [
      "MAE: 160679.18917034855\n"
     ]
    }
   ],
   "source": [
    "pipeline.fit(X_train, y_train)\n",
    "\n",
    "# Preprocessing of validation data, get predictions\n",
    "preds = pipeline.predict(X_test)\n",
    "\n",
    "# Evaluate the model\n",
    "score = mean_absolute_error(y_test, preds)\n",
    "print('MAE:', score)"
   ]
  },
  {
   "cell_type": "code",
   "execution_count": null,
   "id": "9654b1f9-d258-46e4-bef5-fce71e4f943e",
   "metadata": {},
   "outputs": [],
   "source": []
  }
 ],
 "metadata": {
  "kernelspec": {
   "display_name": "Python 3 (ipykernel)",
   "language": "python",
   "name": "python3"
  },
  "language_info": {
   "codemirror_mode": {
    "name": "ipython",
    "version": 3
   },
   "file_extension": ".py",
   "mimetype": "text/x-python",
   "name": "python",
   "nbconvert_exporter": "python",
   "pygments_lexer": "ipython3",
   "version": "3.12.4"
  }
 },
 "nbformat": 4,
 "nbformat_minor": 5
}
