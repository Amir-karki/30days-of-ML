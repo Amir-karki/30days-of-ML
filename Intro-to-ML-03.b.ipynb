{
 "cells": [
  {
   "cell_type": "markdown",
   "id": "8137b87e-267c-4e43-9e34-dfc75b7d0ef5",
   "metadata": {},
   "source": [
    "Learning Cross-Validation, Cross-validation is essentially to fully trust that your model perform better even on unseen datas, it creates a subset of the original training datas (folds) and trains each one and calculates the overall performance of your model. This way, your model is trained and tested on all your available data points."
   ]
  },
  {
   "cell_type": "code",
   "execution_count": null,
   "id": "88cdaf43-775c-43c8-830d-91fafb0bef6f",
   "metadata": {},
   "outputs": [],
   "source": [
    "import pandas as pd\n",
    "import matplotlib.pyplot as plt\n",
    "from sklearn.pipeline import Pipeline\n",
    "from sklearn.impute import SimpleImputer\n",
    "from sklearn.model_selection import cross_val_score\n",
    "from sklearn.ensemble import RandomForestRegressor\n",
    "\n",
    "url = r'C:\\Users\\12368\\OneDrive\\Desktop\\DataScience\\melb_data.csv'\n",
    "data = pd.read_csv(url)\n",
    "\n",
    "y = data['Price']\n",
    "features = ['Rooms', 'Distance', 'Landsize', 'BuildingArea', 'YearBuilt']\n",
    "X = data[features]"
   ]
  },
  {
   "cell_type": "code",
   "execution_count": null,
   "id": "4b529228-64c6-48bd-a4db-73a5fb3764a4",
   "metadata": {},
   "outputs": [],
   "source": [
    "# create a method to test the model with different estimators\n",
    "def get_model(n_estimators):\n",
    "    pipeline = Pipeline(steps=[\n",
    "        ('preprocessor', SimpleImputer()),\n",
    "        ('model', RandomForestRegressor(n_estimators, random_state=0))\n",
    "    ])\n",
    "\n",
    "    scores = -1 * cross_val_score(pipeline, X, y, cv=5, scoring='neg_mean_absolute_error')\n",
    "    return scores.mean() # returns mean scores of the model"
   ]
  },
  {
   "cell_type": "code",
   "execution_count": null,
   "id": "f97f8ecf-4c49-4107-8bc6-7a867e906864",
   "metadata": {},
   "outputs": [],
   "source": [
    "results = {} # different estimator values are stored here\n",
    "for i in range(1, 9):\n",
    "    results[50*i] = get_model(50*i)"
   ]
  },
  {
   "cell_type": "code",
   "execution_count": null,
   "id": "93bdcd17-bcec-4dc6-b7d4-8e4ee823a159",
   "metadata": {},
   "outputs": [],
   "source": [
    "import matplotlib.pyplot as plt\n",
    "%matplotlib inline\n",
    "\n",
    "plt.plot(list(results.keys()), list(results.values()))\n",
    "plt.show()"
   ]
  },
  {
   "cell_type": "code",
   "execution_count": null,
   "id": "3436672d-1ef9-4d52-bf62-40e4b86a721e",
   "metadata": {},
   "outputs": [],
   "source": []
  },
  {
   "cell_type": "code",
   "execution_count": null,
   "id": "ba751cac-a334-4b71-8a26-20049cf5e696",
   "metadata": {},
   "outputs": [],
   "source": []
  },
  {
   "cell_type": "code",
   "execution_count": null,
   "id": "022ea96f-41e7-43b8-b275-4f842950c413",
   "metadata": {},
   "outputs": [],
   "source": []
  }
 ],
 "metadata": {
  "kernelspec": {
   "display_name": "base",
   "language": "python",
   "name": "python3"
  },
  "language_info": {
   "codemirror_mode": {
    "name": "ipython",
    "version": 3
   },
   "file_extension": ".py",
   "mimetype": "text/x-python",
   "name": "python",
   "nbconvert_exporter": "python",
   "pygments_lexer": "ipython3",
   "version": "3.12.4"
  }
 },
 "nbformat": 4,
 "nbformat_minor": 5
}
